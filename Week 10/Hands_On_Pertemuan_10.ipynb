{
 "cells": [
  {
   "cell_type": "markdown",
   "id": "36c82675",
   "metadata": {},
   "source": [
    "# Hands-On Pertemuan 10: Implementasi NoSQL Database - MongoDB"
   ]
  },
  {
   "cell_type": "markdown",
   "id": "c541bd8b",
   "metadata": {},
   "source": [
    "## Tujuan:\n",
    "- Mengenal konsep dasar dan pengimplementasian database NoSQL, khususnya MongoDB.\n",
    "- Melakukan berbagai operasi dasar pada MongoDB untuk analisis data.\n",
    "- Mengasah keterampilan dalam menulis query yang lebih kompleks.\n"
   ]
  },
  {
   "cell_type": "code",
   "execution_count": 1,
   "id": "35d28dfd",
   "metadata": {},
   "outputs": [
    {
     "name": "stdout",
     "output_type": "stream",
     "text": [
      "Collecting pymongo\n",
      "  Downloading pymongo-4.10.1-cp311-cp311-win_amd64.whl.metadata (22 kB)\n",
      "Collecting dnspython<3.0.0,>=1.16.0 (from pymongo)\n",
      "  Downloading dnspython-2.7.0-py3-none-any.whl.metadata (5.8 kB)\n",
      "Downloading pymongo-4.10.1-cp311-cp311-win_amd64.whl (876 kB)\n",
      "   ---------------------------------------- 0.0/876.5 kB ? eta -:--:--\n",
      "   ---------------------------------------- 0.0/876.5 kB ? eta -:--:--\n",
      "   ----------------------- ---------------- 524.3/876.5 kB 2.4 MB/s eta 0:00:01\n",
      "   ----------------------- ---------------- 524.3/876.5 kB 2.4 MB/s eta 0:00:01\n",
      "   ---------------------------------------- 876.5/876.5 kB 1.6 MB/s eta 0:00:00\n",
      "Downloading dnspython-2.7.0-py3-none-any.whl (313 kB)\n",
      "Installing collected packages: dnspython, pymongo\n",
      "Successfully installed dnspython-2.7.0 pymongo-4.10.1\n",
      "Note: you may need to restart the kernel to use updated packages.\n"
     ]
    }
   ],
   "source": [
    "pip install pymongo"
   ]
  },
  {
   "cell_type": "markdown",
   "id": "705e14f2",
   "metadata": {},
   "source": [
    "### 1. Menghubungkan ke Database MongoDB\n",
    "- **Tugas 1**: Pastikan MongoDB telah terpasang dan berjalan. Hubungkan ke MongoDB lokal.\n"
   ]
  },
  {
   "cell_type": "code",
   "execution_count": null,
   "id": "ac5c3c85",
   "metadata": {},
   "outputs": [],
   "source": [
    "from pymongo import MongoClient\n",
    "\n",
    "# Inisialisasi client dan koneksi ke database\n",
    "client = MongoClient('mongodb://localhost:27017/')\n",
    "db = client['company_db']\n",
    "collection = db['employees']\n",
    "\n",
    "# Contoh untuk memastikan koneksi\n",
    "print('Connected to MongoDB')\n"
   ]
  },
  {
   "cell_type": "markdown",
   "id": "0cd8858c",
   "metadata": {},
   "source": [
    "### 2. Operasi CRUD Dasar\n",
    "- **Tugas 2**: Insert, Update, dan Delete data pada koleksi `employees`.\n"
   ]
  },
  {
   "cell_type": "code",
   "execution_count": null,
   "id": "23b894b6",
   "metadata": {},
   "outputs": [],
   "source": [
    "# Contoh Insert Data\n",
    "employee_data = {\n",
    "    'name': 'Alice',\n",
    "    'department': 'Finance',\n",
    "    'age': 29,\n",
    "    'salary': 4500\n",
    "}\n",
    "collection.insert_one(employee_data)\n",
    "print('Data inserted')\n",
    "\n",
    "# Tugas: Insert beberapa data tambahan, lakukan update, serta delete data\n"
   ]
  },
  {
   "cell_type": "code",
   "execution_count": null,
   "id": "1fc95031",
   "metadata": {},
   "outputs": [],
   "source": [
    "# Contoh Query Data\n",
    "for employee in collection.find():\n",
    "    print(employee)\n"
   ]
  },
  {
   "cell_type": "markdown",
   "id": "f5235dbb",
   "metadata": {},
   "source": [
    "### 3. Query Lebih Kompleks Menggunakan Aggregation\n",
    "- **Tugas 3**: Terapkan aggregation untuk menghitung rata-rata gaji per departemen.\n"
   ]
  },
  {
   "cell_type": "code",
   "execution_count": null,
   "id": "3ac107b3",
   "metadata": {},
   "outputs": [],
   "source": [
    "# Query Aggregation untuk mencari rata-rata gaji per departemen\n",
    "pipeline = [\n",
    "    {'$group': {'_id': '$department', 'average_salary': {'$avg': '$salary'}}}\n",
    "]\n",
    "for result in collection.aggregate(pipeline):\n",
    "    print(result)\n"
   ]
  },
  {
   "cell_type": "markdown",
   "id": "aba28dac",
   "metadata": {},
   "source": [
    "### 4. Latihan Tambahan\n",
    "- **Latihan 4.1**: Buatlah koleksi baru `products` dan masukkan data produk (minimal 10 produk).\n",
    "- **Latihan 4.2**: Lakukan query untuk menemukan produk dengan harga di atas rata-rata.\n",
    "- **Latihan 4.3**: Buatlah aggregation pipeline untuk menghitung total produk dalam setiap kategori.\n"
   ]
  },
  {
   "cell_type": "markdown",
   "id": "31fba268",
   "metadata": {},
   "source": [
    "### 5. Tugas\n",
    "- **Tugas 1**: Cari 5 karyawan dengan gaji tertinggi dalam setiap departemen, gunakan query atau aggregation yang sesuai.\n",
    "- **Tugas 2**: Buatlah skenario di mana Anda harus menghapus karyawan yang berusia di bawah 25 tahun dari database.\n",
    "- **Tugas 3**: Buatlah laporan ringkas (menggunakan MongoDB query) yang menghitung total gaji karyawan di setiap departemen, serta rata-rata umur karyawan.\n"
   ]
  }
 ],
 "metadata": {
  "kernelspec": {
   "display_name": "PraktikumBigData",
   "language": "python",
   "name": "python3"
  },
  "language_info": {
   "codemirror_mode": {
    "name": "ipython",
    "version": 3
   },
   "file_extension": ".py",
   "mimetype": "text/x-python",
   "name": "python",
   "nbconvert_exporter": "python",
   "pygments_lexer": "ipython3",
   "version": "3.11.9"
  }
 },
 "nbformat": 4,
 "nbformat_minor": 5
}
